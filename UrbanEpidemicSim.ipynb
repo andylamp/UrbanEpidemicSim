{
 "cells": [
  {
   "cell_type": "code",
   "execution_count": 13,
   "metadata": {},
   "outputs": [],
   "source": [
    "import networkx as nx\n",
    "from tqdm import tqdm\n",
    "import random\n",
    "import pandas as pd\n",
    "import csv\n",
    "import pylab as plt\n",
    "import categories\n",
    "from datetime import date, datetime, timedelta\n",
    "import pylab as plt\n",
    "\n",
    "#https://stackoverflow.com/questions/10688006/generate-a-list-of-datetimes-between-an-interval\n",
    "def perdelta(start, end, delta):\n",
    "    curr = start\n",
    "    while curr < end:\n",
    "        yield curr\n",
    "        curr += delta\n",
    "\n",
    "NYC_graph = nx.DiGraph()\n",
    "\n",
    "#read venue (node) data \n",
    "# node_data = {}\n",
    "pos_dict = {} #will be used to draw the nodes in the graph with geographic topology\n",
    "for l in open('./shared_data/newyork_anon_locationData_newcrawl.txt'):\n",
    "\tsplits = l.split('*;*')\n",
    "\tvenue_id = int(splits[0])\n",
    "\tvenue_info = eval(splits[1])\n",
    "\tNYC_graph.add_node(venue_id)\n",
    "\tNYC_graph.nodes[venue_id]['info'] = venue_info #(40.760265, -73.989105, 'Italian', '217', '291', 'Ristorante Da Rosina')\n",
    "\n",
    "\t# randomly infect a number of nodes #0 susceptible, 1 infected, 2 recovered\n",
    "\tif random.random() < 0.0001:\n",
    "\t\t# print ('hi')\n",
    "\t\tNYC_graph.nodes[venue_id]['status'] = 1\n",
    "\telse:\n",
    "\t\tNYC_graph.nodes[venue_id]['status'] = 0 \n",
    "\n",
    "\tpos_dict[venue_id] = (venue_info[1], venue_info[0])\n",
    "\n",
    "\n",
    "#read transitions and respective timestamp information \n",
    "df_transitions = pd.read_csv('./shared_data/newyork_placenet_transitions.csv', error_bad_lines=False)\n",
    "df_transitions['timestamp1'] = pd.to_datetime(df_transitions.timestamp1)\n",
    "df_transitions['timestamp2'] =pd.to_datetime(df_transitions.timestamp2)\n",
    "\n",
    "#sort transitions by date\n",
    "df_transitions =df_transitions.sort_values(by='timestamp1')\n"
   ]
  },
  {
   "cell_type": "code",
   "execution_count": 7,
   "metadata": {},
   "outputs": [
    {
     "name": "stdout",
     "output_type": "stream",
     "text": [
      "2010-12-21 20:00:00\n",
      "        venue1  venue2          timestamp1          timestamp2\n",
      "256987   56438   58739 2010-12-21 20:03:28 2010-12-22 20:26:57\n",
      "229045   67051   73611 2010-12-21 20:18:01 2010-12-22 15:50:23\n",
      "304227   12988   85560 2010-12-21 20:25:41 2010-12-21 20:42:40\n",
      "304849   41071   55989 2010-12-21 20:27:13 2010-12-27 01:43:41\n",
      "255843    5075   63465 2010-12-21 20:29:08 2011-01-12 02:43:10\n"
     ]
    },
    {
     "ename": "NameError",
     "evalue": "name 'er' is not defined",
     "output_type": "error",
     "traceback": [
      "\u001b[0;31m---------------------------------------------------------------------------\u001b[0m",
      "\u001b[0;31mNameError\u001b[0m                                 Traceback (most recent call last)",
      "\u001b[0;32m<ipython-input-7-f3796496401f>\u001b[0m in \u001b[0;36m<module>\u001b[0;34m\u001b[0m\n\u001b[1;32m     17\u001b[0m         \u001b[0mvenue2\u001b[0m \u001b[0;34m=\u001b[0m \u001b[0;34m(\u001b[0m\u001b[0mrow\u001b[0m\u001b[0;34m[\u001b[0m\u001b[0;36m1\u001b[0m\u001b[0;34m]\u001b[0m\u001b[0;34m[\u001b[0m\u001b[0;36m1\u001b[0m\u001b[0;34m]\u001b[0m\u001b[0;34m)\u001b[0m\u001b[0;34m\u001b[0m\u001b[0;34m\u001b[0m\u001b[0m\n\u001b[1;32m     18\u001b[0m \u001b[0;34m\u001b[0m\u001b[0m\n\u001b[0;32m---> 19\u001b[0;31m         \u001b[0mer\u001b[0m\u001b[0;34m\u001b[0m\u001b[0;34m\u001b[0m\u001b[0m\n\u001b[0m",
      "\u001b[0;31mNameError\u001b[0m: name 'er' is not defined"
     ]
    }
   ],
   "source": [
    "#create temporal snapshots of the network: these will be our epochs in the simulation  \n",
    "#first date 2010-12-21 20:27:13\n",
    "#last date 2011-09-19 16:08:50\n",
    "start_date = datetime(2010, 12, 21, 20, 0, 0)\n",
    "end_date = datetime(2011, 9, 19, 17, 0, 0)\n",
    "epoch = 0\n",
    "date1 = None\n",
    "date2 = None\n",
    "for date2 in perdelta(start_date, end_date, timedelta(days=1)):\n",
    "\n",
    "\t#kick start\n",
    "\tif date1 == None:\n",
    "\t\tdate1 = date2\n",
    "\t\tcontinue\n",
    "\n",
    "\n",
    "\n",
    "\t# print (result)\n",
    "\tprint ('epoch: ' + str(epoch))\n",
    "\n",
    "\t#filter snapshot from original dataset\n",
    "\tmask = (df_transitions['timestamp1'] > date1) & (df_transitions['timestamp2'] <= date2)\n",
    "\tdf_transitions_snap = df_transitions.loc[mask]\n",
    "\n",
    "\t#simulate 'spread'\n",
    "\t# print (df_transitions_snap.head())\n",
    "\tfor row in df_transitions_snap.iterrows():\n",
    "\t\t# print ('hi')\n",
    "\t\t# print (row[0])\n",
    "\t\tvenue1 = row[1][0]\n",
    "\t\tvenue2 = row[1][1]\n",
    "\n",
    "\t\t#check if interaction involves 'infected' nodes and if yes, spread the virus\n",
    "\t\tif (NYC_graph.nodes[venue1]['status'] == 1 and NYC_graph.nodes[venue2]['status'] == 0):\n",
    "\t\t\tNYC_graph.nodes[venue2]['status'] = 1\n",
    "\n",
    "\t#draw the network of infected nodes \n",
    "\tinfected_node_list = [venue for venue in NYC_graph.nodes() if NYC_graph.nodes[venue]['status'] == 1]\n",
    "\tinf_pos_dict = dict((k, pos_dict[k]) for k in infected_node_list)\n",
    "\tinfected_graph = NYC_graph.subgraph(infected_node_list)\n",
    "\tfrac_infected = round(infected_graph.order() / NYC_graph.order()*10,2)\n",
    "\n",
    "\t# plt.figure(1,figsize=(50,50)) \n",
    "\tplt.xlabel('longitude')\n",
    "\tplt.ylabel('latitude')\n",
    "\tplt.grid(True)\n",
    "\t# nx.draw_networkx_nodes(infected_graph, pos=pos_dict, nodelist = infected_node_list , node_size=1, alpha=0.1)\n",
    "\tnx.draw(infected_graph, pos=inf_pos_dict , node_size=1, node_color='red', alpha=0.1)\n",
    "\tplt.title(date2.strftime(\"%m/%d/%Y\") + ' ' +  str(frac_infected)  + '%' + ' of 85k places infected')\n",
    "\n",
    "\tplt.savefig('./netgraphs/nyc_net_' + str(epoch) + '.png')\n",
    "\tplt.close()\n",
    "\n",
    "\t#increment epoch index and reset date\n",
    "\tepoch+=1\n",
    "\tdate1 = date2"
   ]
  },
  {
   "cell_type": "code",
   "execution_count": 12,
   "metadata": {},
   "outputs": [
    {
     "data": {
      "text/plain": [
       "AtlasView({0: {}})"
      ]
     },
     "execution_count": 12,
     "metadata": {},
     "output_type": "execute_result"
    }
   ],
   "source": []
  },
  {
   "cell_type": "code",
   "execution_count": null,
   "metadata": {},
   "outputs": [],
   "source": []
  }
 ],
 "metadata": {
  "kernelspec": {
   "display_name": "Python 3",
   "language": "python",
   "name": "python3"
  },
  "language_info": {
   "codemirror_mode": {
    "name": "ipython",
    "version": 3
   },
   "file_extension": ".py",
   "mimetype": "text/x-python",
   "name": "python",
   "nbconvert_exporter": "python",
   "pygments_lexer": "ipython3",
   "version": "3.7.4"
  }
 },
 "nbformat": 4,
 "nbformat_minor": 2
}
